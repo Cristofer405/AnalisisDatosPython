{
 "cells": [
  {
   "cell_type": "markdown",
   "metadata": {},
   "source": [
    "COMETARIO"
   ]
  },
  {
   "cell_type": "code",
   "execution_count": 10,
   "metadata": {},
   "outputs": [
    {
     "name": "stdout",
     "output_type": "stream",
     "text": [
      "Hola Python\n",
      "Falso\n"
     ]
    }
   ],
   "source": [
    "#1. Comentario en una linea.\n",
    "print(\"Hola Python\")\n",
    "\n",
    "\"\"\"\n",
    "2. Comentario para varias lineas\n",
    "    Linea 1\n",
    "    Linea 2\n",
    "\"\"\"\n",
    "MiVar = 2\n",
    "\n",
    "if MiVar == 5:\n",
    "    print(\"Verdadero\")\n",
    "else:\n",
    "    print(\"Falso\")"
   ]
  },
  {
   "cell_type": "markdown",
   "metadata": {},
   "source": [
    "Tipos de datos"
   ]
  },
  {
   "cell_type": "code",
   "execution_count": 12,
   "metadata": {},
   "outputs": [
    {
     "name": "stdout",
     "output_type": "stream",
     "text": [
      "<class 'int'>\n"
     ]
    }
   ],
   "source": [
    "print(type(MiVar))"
   ]
  },
  {
   "cell_type": "markdown",
   "metadata": {},
   "source": [
    "Tipos de datos: Listas"
   ]
  },
  {
   "cell_type": "code",
   "execution_count": 25,
   "metadata": {},
   "outputs": [
    {
     "name": "stdout",
     "output_type": "stream",
     "text": [
      "5\n",
      "3\n",
      "4\n",
      "6\n",
      "Hola\n",
      "['uno', 'dos', 'tres']\n",
      "dos\n",
      "[8, ['uno', 'dos', 'tres'], ['X']]\n"
     ]
    }
   ],
   "source": [
    "lista01 = []\n",
    "# Lista de enteros\n",
    "lista02 = [1,2,3,4,5]\n",
    "\n",
    "# Lista de cadenas\n",
    "lista03 = ['Apple', 'Windows', 'SAP']\n",
    "\n",
    "# Lista mixta\n",
    "lista04 = [1,2,3,\"Hola\"]\n",
    "\n",
    "# Lista anidada\n",
    "lista05 = [3,4.5,8,[\"uno\",\"dos\",\"tres\"],['X'],'letra', 'numero']\n",
    "\n",
    "print(len(lista02))\n",
    "print(len(lista03))\n",
    "print(len(lista04))\n",
    "print(len(lista05))\n",
    "\n",
    "print(lista04[3])\n",
    "print(lista05[3])\n",
    "print(lista05[3][1])\n",
    "print(lista05[2:5])"
   ]
  },
  {
   "cell_type": "markdown",
   "metadata": {},
   "source": [
    "Tipos de datos: Tuplas"
   ]
  },
  {
   "cell_type": "code",
   "execution_count": 34,
   "metadata": {},
   "outputs": [
    {
     "name": "stdout",
     "output_type": "stream",
     "text": [
      "<class 'tuple'>\n",
      "1\n",
      "4\n",
      "6\n",
      "7\n",
      "('a', 'b', 'c')\n",
      "[2, 8, 9]\n"
     ]
    }
   ],
   "source": [
    "# Las tuplas no se pueden modificar sus elementos. Los parentesis son opcioneales\n",
    "tupla01 = ()\n",
    "tupla02 = (1,2,3,4,5,6,7,8)\n",
    "tupla03 = ('a','b','c','d','e')\n",
    "tupla04 = (4,62,'hola', 2.5, 'bye')\n",
    "tupla05 = (1,4,6,7, ('a','b','c'), [2,8,9])\n",
    "tupla06 = ('hola',) #Tupla de un elemento\n",
    "tupla07 = 'hola', #Tupla de un elemento\n",
    "tupla08 = 4,62,'hola', 2.5, 'bye'\n",
    "\n",
    "print(type(tupla08))\n",
    "\n",
    "for item in tupla05:\n",
    "    print(item)"
   ]
  },
  {
   "cell_type": "markdown",
   "metadata": {},
   "source": [
    "Tipos de datos: Diccionario"
   ]
  },
  {
   "cell_type": "code",
   "execution_count": 39,
   "metadata": {},
   "outputs": [
    {
     "name": "stdout",
     "output_type": "stream",
     "text": [
      "{'Nombre': 'John', 2: [1, 2, 3, 4]}\n",
      "24\n",
      "None\n",
      "{'Nombre': 'John', 'Edad': 24, 'Pais': 'Peru', 'Direccion': 'Calle ABC'}\n",
      "\n",
      "Nombre : John\n",
      "Edad : 24\n",
      "Pais : Peru\n",
      "Direccion : Calle ABC\n",
      "\n",
      "Nombre\n",
      "Edad\n",
      "Pais\n",
      "Direccion\n"
     ]
    }
   ],
   "source": [
    "diccionario01 = {}\n",
    "diccionario02 = {1:'Juan', 2:'Carlos'}\n",
    "diccionario03 = {'Nombre':'John', 2:[1,2,3,4]}\n",
    "diccionario04 = {'Nombre':'John', 'Edad':24, 'Pais':'Peru'}\n",
    "\n",
    "print(diccionario03)\n",
    "print(diccionario04['Edad'])\n",
    "#print(diccionario04['Direccion']) #Da error\n",
    "print(diccionario04.get('Direccion')) # No da error\n",
    "\n",
    "diccionario04['Direccion'] = 'Calle ABC'\n",
    "print(diccionario04)\n",
    "\n",
    "print()\n",
    "for clave,valor in diccionario04.items():\n",
    "    print(clave,':',valor)\n",
    "\n",
    "print()\n",
    "for clave in diccionario04.keys():\n",
    "    print(clave)"
   ]
  },
  {
   "cell_type": "markdown",
   "metadata": {},
   "source": [
    "Control de flujo"
   ]
  },
  {
   "cell_type": "code",
   "execution_count": 40,
   "metadata": {},
   "outputs": [
    {
     "name": "stdout",
     "output_type": "stream",
     "text": [
      "simpre se pinta\n"
     ]
    }
   ],
   "source": [
    "# Control de flujo condicional\n",
    "numero = -3\n",
    "\n",
    "if numero > 0:\n",
    "    print('El numero es positivo')\n",
    "print('simpre se pinta')"
   ]
  },
  {
   "cell_type": "code",
   "execution_count": 41,
   "metadata": {},
   "outputs": [
    {
     "name": "stdout",
     "output_type": "stream",
     "text": [
      "El numero es negativo\n"
     ]
    }
   ],
   "source": [
    "if numero > 0:\n",
    "    print('El numero es positivo')\n",
    "else:\n",
    "    print('El numero es negativo')"
   ]
  },
  {
   "cell_type": "code",
   "execution_count": 42,
   "metadata": {},
   "outputs": [
    {
     "name": "stdout",
     "output_type": "stream",
     "text": [
      "El valor es: 3\n",
      "El valor es: 4.5\n",
      "El valor es: 8\n",
      "El valor es: ['uno', 'dos', 'tres']\n",
      "El valor es: ['X']\n",
      "El valor es: letra\n"
     ]
    }
   ],
   "source": [
    "for item in lista05:\n",
    "    print(f'El valor es: {item}')"
   ]
  },
  {
   "cell_type": "code",
   "execution_count": 43,
   "metadata": {},
   "outputs": [
    {
     "name": "stdout",
     "output_type": "stream",
     "text": [
      "La suma es 55\n"
     ]
    }
   ],
   "source": [
    "n = 10\n",
    "sum = 0\n",
    "i = 1\n",
    "\n",
    "while i <= n:\n",
    "    sum = sum + i\n",
    "    i = i + 1\n",
    "\n",
    "print(f'La suma es {sum}')"
   ]
  }
 ],
 "metadata": {
  "kernelspec": {
   "display_name": "Python 3 (ipykernel)",
   "language": "python",
   "name": "python3"
  },
  "language_info": {
   "codemirror_mode": {
    "name": "ipython",
    "version": 3
   },
   "file_extension": ".py",
   "mimetype": "text/x-python",
   "name": "python",
   "nbconvert_exporter": "python",
   "pygments_lexer": "ipython3",
   "version": "3.10.13"
  }
 },
 "nbformat": 4,
 "nbformat_minor": 2
}
